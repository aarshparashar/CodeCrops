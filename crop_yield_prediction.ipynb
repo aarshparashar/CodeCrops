{
  "cells": [
    {
      "cell_type": "markdown",
      "metadata": {
        "id": "view-in-github",
        "colab_type": "text"
      },
      "source": [
        "<a href=\"https://colab.research.google.com/github/aarshparashar/CodeCrops/blob/main/crop_yield_prediction.ipynb\" target=\"_parent\"><img src=\"https://colab.research.google.com/assets/colab-badge.svg\" alt=\"Open In Colab\"/></a>"
      ]
    },
    {
      "cell_type": "markdown",
      "id": "8ec2174f",
      "metadata": {
        "id": "8ec2174f"
      },
      "source": [
        "## Installing Dependencies"
      ]
    },
    {
      "cell_type": "code",
      "execution_count": 1,
      "id": "598843ac",
      "metadata": {
        "_cell_guid": "b1076dfc-b9ad-4769-8c92-a6c4dae69d19",
        "_uuid": "8f2839f25d086af736a60e9eeb907d3b93b6e0e5",
        "execution": {
          "iopub.execute_input": "2024-06-02T00:42:06.918253Z",
          "iopub.status.busy": "2024-06-02T00:42:06.917851Z",
          "iopub.status.idle": "2024-06-02T00:42:07.925343Z",
          "shell.execute_reply": "2024-06-02T00:42:07.923819Z"
        },
        "papermill": {
          "duration": 1.021395,
          "end_time": "2024-06-02T00:42:07.928170",
          "exception": false,
          "start_time": "2024-06-02T00:42:06.906775",
          "status": "completed"
        },
        "tags": [],
        "id": "598843ac"
      },
      "outputs": [],
      "source": [
        "import numpy as np\n",
        "import pandas as pd"
      ]
    },
    {
      "cell_type": "code",
      "execution_count": null,
      "id": "fd770ec4",
      "metadata": {
        "execution": {
          "iopub.execute_input": "2024-06-02T00:42:07.948126Z",
          "iopub.status.busy": "2024-06-02T00:42:07.947554Z",
          "iopub.status.idle": "2024-06-02T00:42:08.029815Z",
          "shell.execute_reply": "2024-06-02T00:42:08.028598Z"
        },
        "papermill": {
          "duration": 0.095634,
          "end_time": "2024-06-02T00:42:08.032934",
          "exception": false,
          "start_time": "2024-06-02T00:42:07.937300",
          "status": "completed"
        },
        "tags": [],
        "id": "fd770ec4"
      },
      "outputs": [],
      "source": [
        "df = pd.read_csv('yield_df.csv')"
      ]
    },
    {
      "cell_type": "code",
      "execution_count": null,
      "id": "209e42bd",
      "metadata": {
        "execution": {
          "iopub.execute_input": "2024-06-02T00:42:08.052546Z",
          "iopub.status.busy": "2024-06-02T00:42:08.052112Z",
          "iopub.status.idle": "2024-06-02T00:42:08.079775Z",
          "shell.execute_reply": "2024-06-02T00:42:08.078662Z"
        },
        "papermill": {
          "duration": 0.040382,
          "end_time": "2024-06-02T00:42:08.082311",
          "exception": false,
          "start_time": "2024-06-02T00:42:08.041929",
          "status": "completed"
        },
        "tags": [],
        "id": "209e42bd",
        "outputId": "8d373242-eaff-4d98-a3a6-1d599c89a2da"
      },
      "outputs": [
        {
          "data": {
            "text/html": [
              "<div>\n",
              "<style scoped>\n",
              "    .dataframe tbody tr th:only-of-type {\n",
              "        vertical-align: middle;\n",
              "    }\n",
              "\n",
              "    .dataframe tbody tr th {\n",
              "        vertical-align: top;\n",
              "    }\n",
              "\n",
              "    .dataframe thead th {\n",
              "        text-align: right;\n",
              "    }\n",
              "</style>\n",
              "<table border=\"1\" class=\"dataframe\">\n",
              "  <thead>\n",
              "    <tr style=\"text-align: right;\">\n",
              "      <th></th>\n",
              "      <th>Unnamed: 0</th>\n",
              "      <th>Area</th>\n",
              "      <th>Item</th>\n",
              "      <th>Year</th>\n",
              "      <th>hg/ha_yield</th>\n",
              "      <th>average_rain_fall_mm_per_year</th>\n",
              "      <th>pesticides_tonnes</th>\n",
              "      <th>avg_temp</th>\n",
              "    </tr>\n",
              "  </thead>\n",
              "  <tbody>\n",
              "    <tr>\n",
              "      <th>0</th>\n",
              "      <td>0</td>\n",
              "      <td>Albania</td>\n",
              "      <td>Maize</td>\n",
              "      <td>1990</td>\n",
              "      <td>36613</td>\n",
              "      <td>1485.0</td>\n",
              "      <td>121.00</td>\n",
              "      <td>16.37</td>\n",
              "    </tr>\n",
              "    <tr>\n",
              "      <th>1</th>\n",
              "      <td>1</td>\n",
              "      <td>Albania</td>\n",
              "      <td>Potatoes</td>\n",
              "      <td>1990</td>\n",
              "      <td>66667</td>\n",
              "      <td>1485.0</td>\n",
              "      <td>121.00</td>\n",
              "      <td>16.37</td>\n",
              "    </tr>\n",
              "    <tr>\n",
              "      <th>2</th>\n",
              "      <td>2</td>\n",
              "      <td>Albania</td>\n",
              "      <td>Rice, paddy</td>\n",
              "      <td>1990</td>\n",
              "      <td>23333</td>\n",
              "      <td>1485.0</td>\n",
              "      <td>121.00</td>\n",
              "      <td>16.37</td>\n",
              "    </tr>\n",
              "    <tr>\n",
              "      <th>3</th>\n",
              "      <td>3</td>\n",
              "      <td>Albania</td>\n",
              "      <td>Sorghum</td>\n",
              "      <td>1990</td>\n",
              "      <td>12500</td>\n",
              "      <td>1485.0</td>\n",
              "      <td>121.00</td>\n",
              "      <td>16.37</td>\n",
              "    </tr>\n",
              "    <tr>\n",
              "      <th>4</th>\n",
              "      <td>4</td>\n",
              "      <td>Albania</td>\n",
              "      <td>Soybeans</td>\n",
              "      <td>1990</td>\n",
              "      <td>7000</td>\n",
              "      <td>1485.0</td>\n",
              "      <td>121.00</td>\n",
              "      <td>16.37</td>\n",
              "    </tr>\n",
              "    <tr>\n",
              "      <th>...</th>\n",
              "      <td>...</td>\n",
              "      <td>...</td>\n",
              "      <td>...</td>\n",
              "      <td>...</td>\n",
              "      <td>...</td>\n",
              "      <td>...</td>\n",
              "      <td>...</td>\n",
              "      <td>...</td>\n",
              "    </tr>\n",
              "    <tr>\n",
              "      <th>28237</th>\n",
              "      <td>28237</td>\n",
              "      <td>Zimbabwe</td>\n",
              "      <td>Rice, paddy</td>\n",
              "      <td>2013</td>\n",
              "      <td>22581</td>\n",
              "      <td>657.0</td>\n",
              "      <td>2550.07</td>\n",
              "      <td>19.76</td>\n",
              "    </tr>\n",
              "    <tr>\n",
              "      <th>28238</th>\n",
              "      <td>28238</td>\n",
              "      <td>Zimbabwe</td>\n",
              "      <td>Sorghum</td>\n",
              "      <td>2013</td>\n",
              "      <td>3066</td>\n",
              "      <td>657.0</td>\n",
              "      <td>2550.07</td>\n",
              "      <td>19.76</td>\n",
              "    </tr>\n",
              "    <tr>\n",
              "      <th>28239</th>\n",
              "      <td>28239</td>\n",
              "      <td>Zimbabwe</td>\n",
              "      <td>Soybeans</td>\n",
              "      <td>2013</td>\n",
              "      <td>13142</td>\n",
              "      <td>657.0</td>\n",
              "      <td>2550.07</td>\n",
              "      <td>19.76</td>\n",
              "    </tr>\n",
              "    <tr>\n",
              "      <th>28240</th>\n",
              "      <td>28240</td>\n",
              "      <td>Zimbabwe</td>\n",
              "      <td>Sweet potatoes</td>\n",
              "      <td>2013</td>\n",
              "      <td>22222</td>\n",
              "      <td>657.0</td>\n",
              "      <td>2550.07</td>\n",
              "      <td>19.76</td>\n",
              "    </tr>\n",
              "    <tr>\n",
              "      <th>28241</th>\n",
              "      <td>28241</td>\n",
              "      <td>Zimbabwe</td>\n",
              "      <td>Wheat</td>\n",
              "      <td>2013</td>\n",
              "      <td>22888</td>\n",
              "      <td>657.0</td>\n",
              "      <td>2550.07</td>\n",
              "      <td>19.76</td>\n",
              "    </tr>\n",
              "  </tbody>\n",
              "</table>\n",
              "<p>28242 rows × 8 columns</p>\n",
              "</div>"
            ],
            "text/plain": [
              "       Unnamed: 0      Area            Item  Year  hg/ha_yield  \\\n",
              "0               0   Albania           Maize  1990        36613   \n",
              "1               1   Albania        Potatoes  1990        66667   \n",
              "2               2   Albania     Rice, paddy  1990        23333   \n",
              "3               3   Albania         Sorghum  1990        12500   \n",
              "4               4   Albania        Soybeans  1990         7000   \n",
              "...           ...       ...             ...   ...          ...   \n",
              "28237       28237  Zimbabwe     Rice, paddy  2013        22581   \n",
              "28238       28238  Zimbabwe         Sorghum  2013         3066   \n",
              "28239       28239  Zimbabwe        Soybeans  2013        13142   \n",
              "28240       28240  Zimbabwe  Sweet potatoes  2013        22222   \n",
              "28241       28241  Zimbabwe           Wheat  2013        22888   \n",
              "\n",
              "       average_rain_fall_mm_per_year  pesticides_tonnes  avg_temp  \n",
              "0                             1485.0             121.00     16.37  \n",
              "1                             1485.0             121.00     16.37  \n",
              "2                             1485.0             121.00     16.37  \n",
              "3                             1485.0             121.00     16.37  \n",
              "4                             1485.0             121.00     16.37  \n",
              "...                              ...                ...       ...  \n",
              "28237                          657.0            2550.07     19.76  \n",
              "28238                          657.0            2550.07     19.76  \n",
              "28239                          657.0            2550.07     19.76  \n",
              "28240                          657.0            2550.07     19.76  \n",
              "28241                          657.0            2550.07     19.76  \n",
              "\n",
              "[28242 rows x 8 columns]"
            ]
          },
          "execution_count": 23,
          "metadata": {},
          "output_type": "execute_result"
        }
      ],
      "source": [
        "df"
      ]
    },
    {
      "cell_type": "code",
      "execution_count": null,
      "id": "4a1b1f64",
      "metadata": {
        "execution": {
          "iopub.execute_input": "2024-06-02T00:42:08.102723Z",
          "iopub.status.busy": "2024-06-02T00:42:08.102209Z",
          "iopub.status.idle": "2024-06-02T00:42:08.173156Z",
          "shell.execute_reply": "2024-06-02T00:42:08.171803Z"
        },
        "papermill": {
          "duration": 0.08434,
          "end_time": "2024-06-02T00:42:08.176016",
          "exception": false,
          "start_time": "2024-06-02T00:42:08.091676",
          "status": "completed"
        },
        "tags": [],
        "id": "4a1b1f64",
        "outputId": "f65f1444-29b3-4018-8bcf-17875ea235c8"
      },
      "outputs": [
        {
          "name": "stdout",
          "output_type": "stream",
          "text": [
            "\n",
            "\u001b[1mShape of DataFrame:\u001b[0m  (28242, 8)\n",
            "\n",
            "\u001b[1mColumns in DataFrame:\u001b[0m  ['Unnamed: 0', 'Area', 'Item', 'Year', 'hg/ha_yield', 'average_rain_fall_mm_per_year', 'pesticides_tonnes', 'avg_temp']\n",
            "\n",
            "\u001b[1mData types of columns:\u001b[0m\n",
            " Unnamed: 0                         int64\n",
            "Area                              object\n",
            "Item                              object\n",
            "Year                               int64\n",
            "hg/ha_yield                        int64\n",
            "average_rain_fall_mm_per_year    float64\n",
            "pesticides_tonnes                float64\n",
            "avg_temp                         float64\n",
            "dtype: object\n",
            "\n",
            "\u001b[1mInformation about DataFrame:\u001b[0m\n",
            "<class 'pandas.core.frame.DataFrame'>\n",
            "RangeIndex: 28242 entries, 0 to 28241\n",
            "Data columns (total 8 columns):\n",
            " #   Column                         Non-Null Count  Dtype  \n",
            "---  ------                         --------------  -----  \n",
            " 0   Unnamed: 0                     28242 non-null  int64  \n",
            " 1   Area                           28242 non-null  object \n",
            " 2   Item                           28242 non-null  object \n",
            " 3   Year                           28242 non-null  int64  \n",
            " 4   hg/ha_yield                    28242 non-null  int64  \n",
            " 5   average_rain_fall_mm_per_year  28242 non-null  float64\n",
            " 6   pesticides_tonnes              28242 non-null  float64\n",
            " 7   avg_temp                       28242 non-null  float64\n",
            "dtypes: float64(3), int64(3), object(2)\n",
            "memory usage: 1.7+ MB\n",
            "\n",
            "\u001b[1mNumber of unique values in each column:\u001b[0m\n",
            "\u001b[1mUnnamed: 0\u001b[0m: 28242\n",
            "\u001b[1mArea\u001b[0m: 101\n",
            "\u001b[1mItem\u001b[0m: 10\n",
            "\u001b[1mYear\u001b[0m: 23\n",
            "\u001b[1mhg/ha_yield\u001b[0m: 11514\n",
            "\u001b[1maverage_rain_fall_mm_per_year\u001b[0m: 100\n",
            "\u001b[1mpesticides_tonnes\u001b[0m: 1673\n",
            "\u001b[1mavg_temp\u001b[0m: 1831\n",
            "\n",
            "\u001b[1mNumber of null values in each column:\u001b[0m\n",
            " Unnamed: 0                       0\n",
            "Area                             0\n",
            "Item                             0\n",
            "Year                             0\n",
            "hg/ha_yield                      0\n",
            "average_rain_fall_mm_per_year    0\n",
            "pesticides_tonnes                0\n",
            "avg_temp                         0\n",
            "dtype: int64\n",
            "\n",
            "\u001b[1mNumber of duplicate rows:\u001b[0m  0\n"
          ]
        }
      ],
      "source": [
        "def get_df_info(df):\n",
        "    print(\"\\n\\033[1mShape of DataFrame:\\033[0m \", df.shape)\n",
        "    print(\"\\n\\033[1mColumns in DataFrame:\\033[0m \", df.columns.to_list())\n",
        "    print(\"\\n\\033[1mData types of columns:\\033[0m\\n\", df.dtypes)\n",
        "\n",
        "    print(\"\\n\\033[1mInformation about DataFrame:\\033[0m\")\n",
        "    df.info()\n",
        "\n",
        "    print(\"\\n\\033[1mNumber of unique values in each column:\\033[0m\")\n",
        "    for col in df.columns:\n",
        "        print(f\"\\033[1m{col}\\033[0m: {df[col].nunique()}\")\n",
        "\n",
        "    print(\"\\n\\033[1mNumber of null values in each column:\\033[0m\\n\", df.isnull().sum())\n",
        "\n",
        "    print(\"\\n\\033[1mNumber of duplicate rows:\\033[0m \", df.duplicated().sum())\n",
        "\n",
        "get_df_info(df)\n"
      ]
    },
    {
      "cell_type": "code",
      "execution_count": null,
      "id": "09565ced",
      "metadata": {
        "execution": {
          "iopub.execute_input": "2024-06-02T00:42:08.197185Z",
          "iopub.status.busy": "2024-06-02T00:42:08.196763Z",
          "iopub.status.idle": "2024-06-02T00:42:08.207818Z",
          "shell.execute_reply": "2024-06-02T00:42:08.206312Z"
        },
        "papermill": {
          "duration": 0.024751,
          "end_time": "2024-06-02T00:42:08.210538",
          "exception": false,
          "start_time": "2024-06-02T00:42:08.185787",
          "status": "completed"
        },
        "tags": [],
        "id": "09565ced"
      },
      "outputs": [],
      "source": [
        "df.drop('Unnamed: 0',axis=1,inplace=True)"
      ]
    },
    {
      "cell_type": "code",
      "execution_count": null,
      "id": "6af60efd",
      "metadata": {
        "id": "6af60efd",
        "outputId": "16e50321-2783-4d4b-9e00-178e77787d4e"
      },
      "outputs": [
        {
          "data": {
            "text/html": [
              "<div>\n",
              "<style scoped>\n",
              "    .dataframe tbody tr th:only-of-type {\n",
              "        vertical-align: middle;\n",
              "    }\n",
              "\n",
              "    .dataframe tbody tr th {\n",
              "        vertical-align: top;\n",
              "    }\n",
              "\n",
              "    .dataframe thead th {\n",
              "        text-align: right;\n",
              "    }\n",
              "</style>\n",
              "<table border=\"1\" class=\"dataframe\">\n",
              "  <thead>\n",
              "    <tr style=\"text-align: right;\">\n",
              "      <th></th>\n",
              "      <th>Area</th>\n",
              "      <th>Item</th>\n",
              "      <th>Year</th>\n",
              "      <th>hg/ha_yield</th>\n",
              "      <th>average_rain_fall_mm_per_year</th>\n",
              "      <th>pesticides_tonnes</th>\n",
              "      <th>avg_temp</th>\n",
              "    </tr>\n",
              "  </thead>\n",
              "  <tbody>\n",
              "    <tr>\n",
              "      <th>0</th>\n",
              "      <td>Albania</td>\n",
              "      <td>Maize</td>\n",
              "      <td>1990</td>\n",
              "      <td>36613</td>\n",
              "      <td>1485.0</td>\n",
              "      <td>121.0</td>\n",
              "      <td>16.37</td>\n",
              "    </tr>\n",
              "    <tr>\n",
              "      <th>1</th>\n",
              "      <td>Albania</td>\n",
              "      <td>Potatoes</td>\n",
              "      <td>1990</td>\n",
              "      <td>66667</td>\n",
              "      <td>1485.0</td>\n",
              "      <td>121.0</td>\n",
              "      <td>16.37</td>\n",
              "    </tr>\n",
              "    <tr>\n",
              "      <th>2</th>\n",
              "      <td>Albania</td>\n",
              "      <td>Rice, paddy</td>\n",
              "      <td>1990</td>\n",
              "      <td>23333</td>\n",
              "      <td>1485.0</td>\n",
              "      <td>121.0</td>\n",
              "      <td>16.37</td>\n",
              "    </tr>\n",
              "    <tr>\n",
              "      <th>3</th>\n",
              "      <td>Albania</td>\n",
              "      <td>Sorghum</td>\n",
              "      <td>1990</td>\n",
              "      <td>12500</td>\n",
              "      <td>1485.0</td>\n",
              "      <td>121.0</td>\n",
              "      <td>16.37</td>\n",
              "    </tr>\n",
              "    <tr>\n",
              "      <th>4</th>\n",
              "      <td>Albania</td>\n",
              "      <td>Soybeans</td>\n",
              "      <td>1990</td>\n",
              "      <td>7000</td>\n",
              "      <td>1485.0</td>\n",
              "      <td>121.0</td>\n",
              "      <td>16.37</td>\n",
              "    </tr>\n",
              "    <tr>\n",
              "      <th>5</th>\n",
              "      <td>Albania</td>\n",
              "      <td>Wheat</td>\n",
              "      <td>1990</td>\n",
              "      <td>30197</td>\n",
              "      <td>1485.0</td>\n",
              "      <td>121.0</td>\n",
              "      <td>16.37</td>\n",
              "    </tr>\n",
              "    <tr>\n",
              "      <th>6</th>\n",
              "      <td>Albania</td>\n",
              "      <td>Maize</td>\n",
              "      <td>1991</td>\n",
              "      <td>29068</td>\n",
              "      <td>1485.0</td>\n",
              "      <td>121.0</td>\n",
              "      <td>15.36</td>\n",
              "    </tr>\n",
              "    <tr>\n",
              "      <th>7</th>\n",
              "      <td>Albania</td>\n",
              "      <td>Potatoes</td>\n",
              "      <td>1991</td>\n",
              "      <td>77818</td>\n",
              "      <td>1485.0</td>\n",
              "      <td>121.0</td>\n",
              "      <td>15.36</td>\n",
              "    </tr>\n",
              "    <tr>\n",
              "      <th>8</th>\n",
              "      <td>Albania</td>\n",
              "      <td>Rice, paddy</td>\n",
              "      <td>1991</td>\n",
              "      <td>28538</td>\n",
              "      <td>1485.0</td>\n",
              "      <td>121.0</td>\n",
              "      <td>15.36</td>\n",
              "    </tr>\n",
              "    <tr>\n",
              "      <th>9</th>\n",
              "      <td>Albania</td>\n",
              "      <td>Sorghum</td>\n",
              "      <td>1991</td>\n",
              "      <td>6667</td>\n",
              "      <td>1485.0</td>\n",
              "      <td>121.0</td>\n",
              "      <td>15.36</td>\n",
              "    </tr>\n",
              "  </tbody>\n",
              "</table>\n",
              "</div>"
            ],
            "text/plain": [
              "      Area         Item  Year  hg/ha_yield  average_rain_fall_mm_per_year  \\\n",
              "0  Albania        Maize  1990        36613                         1485.0   \n",
              "1  Albania     Potatoes  1990        66667                         1485.0   \n",
              "2  Albania  Rice, paddy  1990        23333                         1485.0   \n",
              "3  Albania      Sorghum  1990        12500                         1485.0   \n",
              "4  Albania     Soybeans  1990         7000                         1485.0   \n",
              "5  Albania        Wheat  1990        30197                         1485.0   \n",
              "6  Albania        Maize  1991        29068                         1485.0   \n",
              "7  Albania     Potatoes  1991        77818                         1485.0   \n",
              "8  Albania  Rice, paddy  1991        28538                         1485.0   \n",
              "9  Albania      Sorghum  1991         6667                         1485.0   \n",
              "\n",
              "   pesticides_tonnes  avg_temp  \n",
              "0              121.0     16.37  \n",
              "1              121.0     16.37  \n",
              "2              121.0     16.37  \n",
              "3              121.0     16.37  \n",
              "4              121.0     16.37  \n",
              "5              121.0     16.37  \n",
              "6              121.0     15.36  \n",
              "7              121.0     15.36  \n",
              "8              121.0     15.36  \n",
              "9              121.0     15.36  "
            ]
          },
          "execution_count": 26,
          "metadata": {},
          "output_type": "execute_result"
        }
      ],
      "source": [
        "df.head(10)"
      ]
    },
    {
      "cell_type": "markdown",
      "id": "35c5ada5",
      "metadata": {
        "papermill": {
          "duration": 0.009078,
          "end_time": "2024-06-02T00:42:08.229263",
          "exception": false,
          "start_time": "2024-06-02T00:42:08.220185",
          "status": "completed"
        },
        "tags": [],
        "id": "35c5ada5"
      },
      "source": [
        "# **Data Visualisation**"
      ]
    },
    {
      "cell_type": "markdown",
      "id": "e7086f57",
      "metadata": {
        "papermill": {
          "duration": 0.009059,
          "end_time": "2024-06-02T00:42:08.247857",
          "exception": false,
          "start_time": "2024-06-02T00:42:08.238798",
          "status": "completed"
        },
        "tags": [],
        "id": "e7086f57"
      },
      "source": [
        "> **Areawise Yield of Item over the years**"
      ]
    },
    {
      "cell_type": "code",
      "execution_count": null,
      "id": "03603ac9",
      "metadata": {
        "execution": {
          "iopub.execute_input": "2024-06-02T00:42:08.268550Z",
          "iopub.status.busy": "2024-06-02T00:42:08.268128Z",
          "iopub.status.idle": "2024-06-02T00:42:10.330420Z",
          "shell.execute_reply": "2024-06-02T00:42:10.328934Z"
        },
        "papermill": {
          "duration": 2.076193,
          "end_time": "2024-06-02T00:42:10.333597",
          "exception": false,
          "start_time": "2024-06-02T00:42:08.257404",
          "status": "completed"
        },
        "tags": [],
        "colab": {
          "referenced_widgets": [
            "b13359669dee4bd2aaaa35f592bbecf2"
          ]
        },
        "id": "03603ac9",
        "outputId": "c4d775f1-c358-40e0-c13a-c1aa1e77467e"
      },
      "outputs": [
        {
          "data": {
            "application/vnd.jupyter.widget-view+json": {
              "model_id": "b13359669dee4bd2aaaa35f592bbecf2",
              "version_major": 2,
              "version_minor": 0
            },
            "text/plain": [
              "interactive(children=(Dropdown(description='Area:', options=('Albania', 'Algeria', 'Angola', 'Argentina', 'Arm…"
            ]
          },
          "execution_count": 27,
          "metadata": {},
          "output_type": "execute_result"
        }
      ],
      "source": [
        "import matplotlib.pyplot as plt\n",
        "import seaborn as sns\n",
        "import ipywidgets as widgets\n",
        "from IPython.display import display\n",
        "\n",
        "area_dropdown = widgets.Dropdown(options=df['Area'].unique(), description='Area:')\n",
        "item_dropdown = widgets.Dropdown(options=df['Item'].unique(), description='Item:')\n",
        "\n",
        "def plot_data(area, item):\n",
        "    plt.figure(figsize=(10,6))\n",
        "    temp_df = df[(df['Area'] == area) & (df['Item'] == item)]\n",
        "    plt.plot(temp_df['Year'], temp_df['hg/ha_yield'])\n",
        "    plt.title(f'hg/ha_yield over the years for {item} in {area}')\n",
        "    plt.xlabel('Year')\n",
        "    plt.ylabel('hg/ha_yield')\n",
        "    plt.grid(True)\n",
        "    plt.show()\n",
        "\n",
        "widgets.interactive(plot_data, area=area_dropdown, item=item_dropdown)\n"
      ]
    },
    {
      "cell_type": "markdown",
      "id": "b6e05e2a",
      "metadata": {
        "papermill": {
          "duration": 0.009305,
          "end_time": "2024-06-02T00:42:10.353839",
          "exception": false,
          "start_time": "2024-06-02T00:42:10.344534",
          "status": "completed"
        },
        "tags": [],
        "id": "b6e05e2a"
      },
      "source": [
        "**The code above will create two dropdown widgets: one for selecting a crop and another for selecting an area. The options in each dropdown will be updated based on the selected value in the other dropdown. When you select a crop and an area from the dropdowns, it will display a line plot of yield for different years for the selected crop in the selected area.**"
      ]
    },
    {
      "cell_type": "markdown",
      "id": "bc5c16cc",
      "metadata": {
        "papermill": {
          "duration": 0.009372,
          "end_time": "2024-06-02T00:42:10.373216",
          "exception": false,
          "start_time": "2024-06-02T00:42:10.363844",
          "status": "completed"
        },
        "tags": [],
        "id": "bc5c16cc"
      },
      "source": [
        "> **Area wise usage of pesticides over the years**"
      ]
    },
    {
      "cell_type": "code",
      "execution_count": null,
      "id": "f6ab6c46",
      "metadata": {
        "execution": {
          "iopub.execute_input": "2024-06-02T00:42:10.395412Z",
          "iopub.status.busy": "2024-06-02T00:42:10.394902Z",
          "iopub.status.idle": "2024-06-02T00:42:10.743722Z",
          "shell.execute_reply": "2024-06-02T00:42:10.742370Z"
        },
        "papermill": {
          "duration": 0.363628,
          "end_time": "2024-06-02T00:42:10.746696",
          "exception": false,
          "start_time": "2024-06-02T00:42:10.383068",
          "status": "completed"
        },
        "tags": [],
        "colab": {
          "referenced_widgets": [
            "0cb2621bfc2b4b7bbe8ee2d1c2e4c90c"
          ]
        },
        "id": "f6ab6c46",
        "outputId": "7673747b-690b-4496-e8f8-4750d22bd229"
      },
      "outputs": [
        {
          "data": {
            "application/vnd.jupyter.widget-view+json": {
              "model_id": "0cb2621bfc2b4b7bbe8ee2d1c2e4c90c",
              "version_major": 2,
              "version_minor": 0
            },
            "text/plain": [
              "interactive(children=(Dropdown(description='Area:', options=('Albania', 'Algeria', 'Angola', 'Argentina', 'Arm…"
            ]
          },
          "execution_count": 7,
          "metadata": {},
          "output_type": "execute_result"
        }
      ],
      "source": [
        "area_dropdown = widgets.Dropdown(options=df['Area'].unique(), description='Area:')\n",
        "\n",
        "def plot_data(area):\n",
        "    plt.figure(figsize=(10,6))\n",
        "    temp_df = df[df['Area'] == area]\n",
        "    plt.plot(temp_df['Year'], temp_df['pesticides_tonnes'])\n",
        "    plt.title(f'Pesticides Tonnes over the years in {area}')\n",
        "    plt.xlabel('Year')\n",
        "    plt.ylabel('Pesticides Tonnes')\n",
        "    plt.grid(True)\n",
        "    plt.show()\n",
        "\n",
        "widgets.interactive(plot_data, area=area_dropdown)\n"
      ]
    },
    {
      "cell_type": "markdown",
      "id": "03769d44",
      "metadata": {
        "papermill": {
          "duration": 0.010205,
          "end_time": "2024-06-02T00:42:10.768331",
          "exception": false,
          "start_time": "2024-06-02T00:42:10.758126",
          "status": "completed"
        },
        "tags": [],
        "id": "03769d44"
      },
      "source": [
        "**The code above will create a dropdown widget for selecting an area. When you select an area from the dropdown, it will display a line plot of pesticides_tonnes for different years for the selected area.**"
      ]
    },
    {
      "cell_type": "markdown",
      "id": "14f5d7a9",
      "metadata": {
        "papermill": {
          "duration": 0.00999,
          "end_time": "2024-06-02T00:42:10.788341",
          "exception": false,
          "start_time": "2024-06-02T00:42:10.778351",
          "status": "completed"
        },
        "tags": [],
        "id": "14f5d7a9"
      },
      "source": [
        "> **Correlation Matrix**"
      ]
    },
    {
      "cell_type": "code",
      "execution_count": null,
      "id": "73b15579",
      "metadata": {
        "execution": {
          "iopub.execute_input": "2024-06-02T00:42:10.811325Z",
          "iopub.status.busy": "2024-06-02T00:42:10.810808Z",
          "iopub.status.idle": "2024-06-02T00:42:11.242358Z",
          "shell.execute_reply": "2024-06-02T00:42:11.240893Z"
        },
        "papermill": {
          "duration": 0.446641,
          "end_time": "2024-06-02T00:42:11.245712",
          "exception": false,
          "start_time": "2024-06-02T00:42:10.799071",
          "status": "completed"
        },
        "tags": [],
        "id": "73b15579",
        "outputId": "cecd3ce5-12e9-47de-ead0-741a55ca7fd7"
      },
      "outputs": [
        {
          "data": {
            "image/png": "[encoded data removed]",
            "text/plain": [
              "<Figure size 640x480 with 2 Axes>"
            ]
          },
          "metadata": {},
          "output_type": "display_data"
        }
      ],
      "source": [
        "corr = df.corr(numeric_only = True)\n",
        "sns.heatmap(corr, annot=True, cmap='coolwarm')\n",
        "plt.title('Heatmap of Correlations')\n",
        "plt.show()"
      ]
    },
    {
      "cell_type": "markdown",
      "id": "a4bbd51e",
      "metadata": {
        "papermill": {
          "duration": 0.010629,
          "end_time": "2024-06-02T00:42:11.267181",
          "exception": false,
          "start_time": "2024-06-02T00:42:11.256552",
          "status": "completed"
        },
        "tags": [],
        "id": "a4bbd51e"
      },
      "source": [
        "# **Data Preprocessing**"
      ]
    },
    {
      "cell_type": "code",
      "execution_count": null,
      "id": "d46e53a8",
      "metadata": {
        "execution": {
          "iopub.execute_input": "2024-06-02T00:42:11.291220Z",
          "iopub.status.busy": "2024-06-02T00:42:11.290834Z",
          "iopub.status.idle": "2024-06-02T00:42:11.905063Z",
          "shell.execute_reply": "2024-06-02T00:42:11.903877Z"
        },
        "papermill": {
          "duration": 0.629315,
          "end_time": "2024-06-02T00:42:11.907749",
          "exception": false,
          "start_time": "2024-06-02T00:42:11.278434",
          "status": "completed"
        },
        "tags": [],
        "id": "d46e53a8"
      },
      "outputs": [],
      "source": [
        "from sklearn.model_selection import train_test_split\n",
        "from sklearn.preprocessing import OneHotEncoder, StandardScaler\n",
        "from sklearn.compose import ColumnTransformer\n",
        "from sklearn.pipeline import Pipeline\n",
        "from sklearn.metrics import mean_squared_error, r2_score, mean_absolute_error\n",
        "from sklearn.linear_model import LinearRegression\n",
        "from sklearn.tree import DecisionTreeRegressor\n",
        "from sklearn.ensemble import RandomForestRegressor, ExtraTreesRegressor\n",
        "from sklearn.svm import SVR\n"
      ]
    },
    {
      "cell_type": "markdown",
      "id": "b753b71d",
      "metadata": {
        "papermill": {
          "duration": 0.011361,
          "end_time": "2024-06-02T00:42:11.930861",
          "exception": false,
          "start_time": "2024-06-02T00:42:11.919500",
          "status": "completed"
        },
        "tags": [],
        "id": "b753b71d"
      },
      "source": [
        "**Next, let’s separate the features and the target variable:**"
      ]
    },
    {
      "cell_type": "code",
      "execution_count": null,
      "id": "32886107",
      "metadata": {
        "execution": {
          "iopub.execute_input": "2024-06-02T00:42:11.955288Z",
          "iopub.status.busy": "2024-06-02T00:42:11.954857Z",
          "iopub.status.idle": "2024-06-02T00:42:11.962918Z",
          "shell.execute_reply": "2024-06-02T00:42:11.961775Z"
        },
        "papermill": {
          "duration": 0.023232,
          "end_time": "2024-06-02T00:42:11.965519",
          "exception": false,
          "start_time": "2024-06-02T00:42:11.942287",
          "status": "completed"
        },
        "tags": [],
        "id": "32886107"
      },
      "outputs": [],
      "source": [
        "X = df.drop('hg/ha_yield', axis=1)\n",
        "y = df['hg/ha_yield']"
      ]
    },
    {
      "cell_type": "code",
      "execution_count": null,
      "id": "0eb6c5bc",
      "metadata": {
        "id": "0eb6c5bc",
        "outputId": "ebb31c2f-1399-4d40-9b41-b7de3321b6a2"
      },
      "outputs": [
        {
          "data": {
            "text/html": [
              "<div>\n",
              "<style scoped>\n",
              "    .dataframe tbody tr th:only-of-type {\n",
              "        vertical-align: middle;\n",
              "    }\n",
              "\n",
              "    .dataframe tbody tr th {\n",
              "        vertical-align: top;\n",
              "    }\n",
              "\n",
              "    .dataframe thead th {\n",
              "        text-align: right;\n",
              "    }\n",
              "</style>\n",
              "<table border=\"1\" class=\"dataframe\">\n",
              "  <thead>\n",
              "    <tr style=\"text-align: right;\">\n",
              "      <th></th>\n",
              "      <th>Area</th>\n",
              "      <th>Item</th>\n",
              "      <th>Year</th>\n",
              "      <th>average_rain_fall_mm_per_year</th>\n",
              "      <th>pesticides_tonnes</th>\n",
              "      <th>avg_temp</th>\n",
              "    </tr>\n",
              "  </thead>\n",
              "  <tbody>\n",
              "    <tr>\n",
              "      <th>0</th>\n",
              "      <td>Albania</td>\n",
              "      <td>Maize</td>\n",
              "      <td>1990</td>\n",
              "      <td>1485.0</td>\n",
              "      <td>121.00</td>\n",
              "      <td>16.37</td>\n",
              "    </tr>\n",
              "    <tr>\n",
              "      <th>1</th>\n",
              "      <td>Albania</td>\n",
              "      <td>Potatoes</td>\n",
              "      <td>1990</td>\n",
              "      <td>1485.0</td>\n",
              "      <td>121.00</td>\n",
              "      <td>16.37</td>\n",
              "    </tr>\n",
              "    <tr>\n",
              "      <th>2</th>\n",
              "      <td>Albania</td>\n",
              "      <td>Rice, paddy</td>\n",
              "      <td>1990</td>\n",
              "      <td>1485.0</td>\n",
              "      <td>121.00</td>\n",
              "      <td>16.37</td>\n",
              "    </tr>\n",
              "    <tr>\n",
              "      <th>3</th>\n",
              "      <td>Albania</td>\n",
              "      <td>Sorghum</td>\n",
              "      <td>1990</td>\n",
              "      <td>1485.0</td>\n",
              "      <td>121.00</td>\n",
              "      <td>16.37</td>\n",
              "    </tr>\n",
              "    <tr>\n",
              "      <th>4</th>\n",
              "      <td>Albania</td>\n",
              "      <td>Soybeans</td>\n",
              "      <td>1990</td>\n",
              "      <td>1485.0</td>\n",
              "      <td>121.00</td>\n",
              "      <td>16.37</td>\n",
              "    </tr>\n",
              "    <tr>\n",
              "      <th>...</th>\n",
              "      <td>...</td>\n",
              "      <td>...</td>\n",
              "      <td>...</td>\n",
              "      <td>...</td>\n",
              "      <td>...</td>\n",
              "      <td>...</td>\n",
              "    </tr>\n",
              "    <tr>\n",
              "      <th>28237</th>\n",
              "      <td>Zimbabwe</td>\n",
              "      <td>Rice, paddy</td>\n",
              "      <td>2013</td>\n",
              "      <td>657.0</td>\n",
              "      <td>2550.07</td>\n",
              "      <td>19.76</td>\n",
              "    </tr>\n",
              "    <tr>\n",
              "      <th>28238</th>\n",
              "      <td>Zimbabwe</td>\n",
              "      <td>Sorghum</td>\n",
              "      <td>2013</td>\n",
              "      <td>657.0</td>\n",
              "      <td>2550.07</td>\n",
              "      <td>19.76</td>\n",
              "    </tr>\n",
              "    <tr>\n",
              "      <th>28239</th>\n",
              "      <td>Zimbabwe</td>\n",
              "      <td>Soybeans</td>\n",
              "      <td>2013</td>\n",
              "      <td>657.0</td>\n",
              "      <td>2550.07</td>\n",
              "      <td>19.76</td>\n",
              "    </tr>\n",
              "    <tr>\n",
              "      <th>28240</th>\n",
              "      <td>Zimbabwe</td>\n",
              "      <td>Sweet potatoes</td>\n",
              "      <td>2013</td>\n",
              "      <td>657.0</td>\n",
              "      <td>2550.07</td>\n",
              "      <td>19.76</td>\n",
              "    </tr>\n",
              "    <tr>\n",
              "      <th>28241</th>\n",
              "      <td>Zimbabwe</td>\n",
              "      <td>Wheat</td>\n",
              "      <td>2013</td>\n",
              "      <td>657.0</td>\n",
              "      <td>2550.07</td>\n",
              "      <td>19.76</td>\n",
              "    </tr>\n",
              "  </tbody>\n",
              "</table>\n",
              "<p>28242 rows × 6 columns</p>\n",
              "</div>"
            ],
            "text/plain": [
              "           Area            Item  Year  average_rain_fall_mm_per_year  \\\n",
              "0       Albania           Maize  1990                         1485.0   \n",
              "1       Albania        Potatoes  1990                         1485.0   \n",
              "2       Albania     Rice, paddy  1990                         1485.0   \n",
              "3       Albania         Sorghum  1990                         1485.0   \n",
              "4       Albania        Soybeans  1990                         1485.0   \n",
              "...         ...             ...   ...                            ...   \n",
              "28237  Zimbabwe     Rice, paddy  2013                          657.0   \n",
              "28238  Zimbabwe         Sorghum  2013                          657.0   \n",
              "28239  Zimbabwe        Soybeans  2013                          657.0   \n",
              "28240  Zimbabwe  Sweet potatoes  2013                          657.0   \n",
              "28241  Zimbabwe           Wheat  2013                          657.0   \n",
              "\n",
              "       pesticides_tonnes  avg_temp  \n",
              "0                 121.00     16.37  \n",
              "1                 121.00     16.37  \n",
              "2                 121.00     16.37  \n",
              "3                 121.00     16.37  \n",
              "4                 121.00     16.37  \n",
              "...                  ...       ...  \n",
              "28237            2550.07     19.76  \n",
              "28238            2550.07     19.76  \n",
              "28239            2550.07     19.76  \n",
              "28240            2550.07     19.76  \n",
              "28241            2550.07     19.76  \n",
              "\n",
              "[28242 rows x 6 columns]"
            ]
          },
          "execution_count": 28,
          "metadata": {},
          "output_type": "execute_result"
        }
      ],
      "source": [
        "X"
      ]
    },
    {
      "cell_type": "code",
      "execution_count": null,
      "id": "bb320978",
      "metadata": {
        "id": "bb320978",
        "outputId": "47ca6562-0b3f-48c8-c151-ebc01a5b2f28"
      },
      "outputs": [
        {
          "data": {
            "text/plain": [
              "0    36613\n",
              "1    66667\n",
              "2    23333\n",
              "3    12500\n",
              "4     7000\n",
              "Name: hg/ha_yield, dtype: int64"
            ]
          },
          "execution_count": 30,
          "metadata": {},
          "output_type": "execute_result"
        }
      ],
      "source": [
        "y.head()"
      ]
    },
    {
      "cell_type": "markdown",
      "id": "c617c173",
      "metadata": {
        "papermill": {
          "duration": 0.010558,
          "end_time": "2024-06-02T00:42:11.987074",
          "exception": false,
          "start_time": "2024-06-02T00:42:11.976516",
          "status": "completed"
        },
        "tags": [],
        "id": "c617c173"
      },
      "source": [
        "**Now, let’s handle the categorical features using OneHot Encoding:**"
      ]
    },
    {
      "cell_type": "code",
      "execution_count": null,
      "id": "e44d41bf",
      "metadata": {
        "execution": {
          "iopub.execute_input": "2024-06-02T00:42:12.012414Z",
          "iopub.status.busy": "2024-06-02T00:42:12.011984Z",
          "iopub.status.idle": "2024-06-02T00:42:12.019241Z",
          "shell.execute_reply": "2024-06-02T00:42:12.017945Z"
        },
        "papermill": {
          "duration": 0.023361,
          "end_time": "2024-06-02T00:42:12.021674",
          "exception": false,
          "start_time": "2024-06-02T00:42:11.998313",
          "status": "completed"
        },
        "tags": [],
        "id": "e44d41bf"
      },
      "outputs": [],
      "source": [
        "categorical_features = ['Area', 'Item']\n",
        "numerical_features = ['Year', 'average_rain_fall_mm_per_year', 'pesticides_tonnes', 'avg_temp']\n",
        "\n",
        "preprocessor = ColumnTransformer(\n",
        "    transformers=[\n",
        "        ('num', StandardScaler(), numerical_features),\n",
        "        ('cat', OneHotEncoder(), categorical_features)])\n"
      ]
    },
    {
      "cell_type": "markdown",
      "id": "71ba4090",
      "metadata": {
        "papermill": {
          "duration": 0.010691,
          "end_time": "2024-06-02T00:42:12.043405",
          "exception": false,
          "start_time": "2024-06-02T00:42:12.032714",
          "status": "completed"
        },
        "tags": [],
        "id": "71ba4090"
      },
      "source": [
        "**Next, let’s split the data into training and testing sets:**"
      ]
    },
    {
      "cell_type": "code",
      "execution_count": null,
      "id": "d1e91f68",
      "metadata": {
        "execution": {
          "iopub.execute_input": "2024-06-02T00:42:12.067192Z",
          "iopub.status.busy": "2024-06-02T00:42:12.066750Z",
          "iopub.status.idle": "2024-06-02T00:42:12.082934Z",
          "shell.execute_reply": "2024-06-02T00:42:12.081583Z"
        },
        "papermill": {
          "duration": 0.031493,
          "end_time": "2024-06-02T00:42:12.085883",
          "exception": false,
          "start_time": "2024-06-02T00:42:12.054390",
          "status": "completed"
        },
        "tags": [],
        "id": "d1e91f68"
      },
      "outputs": [],
      "source": [
        "X_train, X_test, y_train, y_test = train_test_split(X, y, test_size=0.2, random_state=101)"
      ]
    },
    {
      "cell_type": "markdown",
      "id": "c186e698",
      "metadata": {
        "papermill": {
          "duration": 0.010779,
          "end_time": "2024-06-02T00:42:12.108416",
          "exception": false,
          "start_time": "2024-06-02T00:42:12.097637",
          "status": "completed"
        },
        "tags": [],
        "id": "c186e698"
      },
      "source": [
        "# **Machine Learning**"
      ]
    },
    {
      "cell_type": "markdown",
      "id": "9f2869d5",
      "metadata": {
        "papermill": {
          "duration": 0.010949,
          "end_time": "2024-06-02T00:42:12.130747",
          "exception": false,
          "start_time": "2024-06-02T00:42:12.119798",
          "status": "completed"
        },
        "tags": [],
        "id": "9f2869d5"
      },
      "source": [
        "**Now, let’s define the models:**"
      ]
    },
    {
      "cell_type": "code",
      "execution_count": null,
      "id": "eeb06292",
      "metadata": {
        "execution": {
          "iopub.execute_input": "2024-06-02T00:42:12.154835Z",
          "iopub.status.busy": "2024-06-02T00:42:12.154383Z",
          "iopub.status.idle": "2024-06-02T00:42:12.161364Z",
          "shell.execute_reply": "2024-06-02T00:42:12.159938Z"
        },
        "papermill": {
          "duration": 0.022106,
          "end_time": "2024-06-02T00:42:12.163922",
          "exception": false,
          "start_time": "2024-06-02T00:42:12.141816",
          "status": "completed"
        },
        "tags": [],
        "id": "eeb06292"
      },
      "outputs": [],
      "source": [
        "models = [\n",
        "    ('Linear Regression', LinearRegression()),\n",
        "    ('Decision Tree', DecisionTreeRegressor(random_state=101)),\n",
        "    ('Random Forest', RandomForestRegressor(random_state=101)),\n",
        "    ('Extra Trees', ExtraTreesRegressor(random_state=101)),\n",
        "    ('Support Vector Machine', SVR())\n",
        "]\n"
      ]
    },
    {
      "cell_type": "markdown",
      "id": "7829a736",
      "metadata": {
        "papermill": {
          "duration": 0.010966,
          "end_time": "2024-06-02T00:42:12.187442",
          "exception": false,
          "start_time": "2024-06-02T00:42:12.176476",
          "status": "completed"
        },
        "tags": [],
        "id": "7829a736"
      },
      "source": [
        "**Finally, let’s train each model, make predictions, and evaluate the results:**"
      ]
    },
    {
      "cell_type": "code",
      "execution_count": null,
      "id": "9ac45534",
      "metadata": {
        "execution": {
          "iopub.execute_input": "2024-06-02T00:42:12.211808Z",
          "iopub.status.busy": "2024-06-02T00:42:12.211363Z",
          "iopub.status.idle": "2024-06-02T00:45:22.357590Z",
          "shell.execute_reply": "2024-06-02T00:45:22.356310Z"
        },
        "papermill": {
          "duration": 190.173032,
          "end_time": "2024-06-02T00:45:22.371778",
          "exception": false,
          "start_time": "2024-06-02T00:42:12.198746",
          "status": "completed"
        },
        "tags": [],
        "id": "9ac45534",
        "outputId": "bdecb320-e69a-47f2-ef25-71e79dd27701"
      },
      "outputs": [
        {
          "name": "stdout",
          "output_type": "stream",
          "text": [
            "Linear Regression:\n",
            "Mean Squared Error: 1750358842.1886008\n",
            "Mean Absolute Error: 29124.4374930374\n",
            "R^2 Score: 0.7509559569566198\n",
            "\n",
            "Decision Tree:\n",
            "Mean Squared Error: 125388999.87519915\n",
            "Mean Absolute Error: 3484.5751460435476\n",
            "R^2 Score: 0.9821594391221862\n",
            "\n",
            "Random Forest:\n",
            "Mean Squared Error: 84238917.77053303\n",
            "Mean Absolute Error: 3428.922715524872\n",
            "R^2 Score: 0.9880143430264045\n",
            "\n",
            "Extra Trees:\n",
            "Mean Squared Error: 64353670.59966091\n",
            "Mean Absolute Error: 2584.094949548593\n",
            "R^2 Score: 0.9908436499279303\n",
            "\n",
            "Support Vector Machine:\n",
            "Mean Squared Error: 8400823561.58569\n",
            "Mean Absolute Error: 55849.77949324983\n",
            "R^2 Score: -0.1952835122970502\n",
            "\n"
          ]
        }
      ],
      "source": [
        "for name, model in models:\n",
        "    pipeline = Pipeline(steps=[('preprocessor', preprocessor), ('model', model)])\n",
        "\n",
        "    pipeline.fit(X_train, y_train)\n",
        "\n",
        "    y_pred = pipeline.predict(X_test)\n",
        "\n",
        "    mse = mean_squared_error(y_test, y_pred)\n",
        "    mae = mean_absolute_error(y_test, y_pred)\n",
        "    r2 = r2_score(y_test, y_pred)\n",
        "\n",
        "    print(f'{name}:')\n",
        "    print(f'Mean Squared Error: {mse}')\n",
        "    print(f'Mean Absolute Error: {mae}')\n",
        "    print(f'R^2 Score: {r2}\\n')\n"
      ]
    },
    {
      "cell_type": "markdown",
      "id": "4ff9048c",
      "metadata": {
        "papermill": {
          "duration": 0.011312,
          "end_time": "2024-06-02T00:45:22.394720",
          "exception": false,
          "start_time": "2024-06-02T00:45:22.383408",
          "status": "completed"
        },
        "tags": [],
        "id": "4ff9048c"
      },
      "source": [
        "Looking at our results:\n",
        "\n",
        "**Linear Regression:** The MSE and MAE are quite high, which indicates that the model’s predictions are not very accurate. The R^2 score is 0.75, which means the model explains 75% of the variance in the target variable.\n",
        "\n",
        "**Decision Tree:** The MSE and MAE are much lower than that of Linear Regression, indicating better performance. The R^2 score is very high (0.98), meaning the model explains 98% of the variance in the target variable.\n",
        "\n",
        "**Random Forest:** This model performs even better than the Decision Tree, with a lower MSE and MAE, and a higher R^2 score.\n",
        "\n",
        "**Extra Trees:** This model performs the best among all models, with the lowest MSE and MAE, and the highest R^2 score.\n",
        "\n",
        "**Support Vector Machine:** This model performs the worst among all models, with a very high MSE and MAE, and a negative R^2 score. This indicates that the model’s predictions are not accurate and it does not explain the variance in the target variable well."
      ]
    },
    {
      "cell_type": "markdown",
      "id": "528b09cf",
      "metadata": {
        "papermill": {
          "duration": 0.011503,
          "end_time": "2024-06-02T00:45:22.417854",
          "exception": false,
          "start_time": "2024-06-02T00:45:22.406351",
          "status": "completed"
        },
        "tags": [],
        "id": "528b09cf"
      },
      "source": [
        "**Next, we can apply a GridSearchCV on Extra Trees model to check if we can improve on the scores.**"
      ]
    },
    {
      "cell_type": "markdown",
      "id": "4726b4db",
      "metadata": {
        "papermill": {
          "duration": 0.011499,
          "end_time": "2024-06-02T00:45:22.477011",
          "exception": false,
          "start_time": "2024-06-02T00:45:22.465512",
          "status": "completed"
        },
        "tags": [],
        "id": "4726b4db"
      },
      "source": [
        "**THANK YOU**"
      ]
    },
    {
      "cell_type": "markdown",
      "id": "81260cb4",
      "metadata": {
        "papermill": {
          "duration": 0.011739,
          "end_time": "2024-06-02T00:45:22.500724",
          "exception": false,
          "start_time": "2024-06-02T00:45:22.488985",
          "status": "completed"
        },
        "tags": [],
        "id": "81260cb4"
      },
      "source": [
        "**Hope you liked the code. Kindly UPVOTE if you find this notebook usefull**"
      ]
    }
  ],
  "metadata": {
    "kaggle": {
      "accelerator": "none",
      "dataSources": [
        {
          "datasetId": 1760177,
          "sourceId": 2874008,
          "sourceType": "datasetVersion"
        }
      ],
      "dockerImageVersionId": 30715,
      "isGpuEnabled": false,
      "isInternetEnabled": true,
      "language": "python",
      "sourceType": "notebook"
    },
    "kernelspec": {
      "display_name": "Python 3 (ipykernel)",
      "language": "python",
      "name": "python3"
    },
    "language_info": {
      "codemirror_mode": {
        "name": "ipython",
        "version": 3
      },
      "file_extension": ".py",
      "mimetype": "text/x-python",
      "name": "python",
      "nbconvert_exporter": "python",
      "pygments_lexer": "ipython3",
      "version": "3.11.2"
    },
    "papermill": {
      "default_parameters": {},
      "duration": 199.583494,
      "end_time": "2024-06-02T00:45:23.235647",
      "environment_variables": {},
      "exception": null,
      "input_path": "__notebook__.ipynb",
      "output_path": "__notebook__.ipynb",
      "parameters": {},
      "start_time": "2024-06-02T00:42:03.652153",
      "version": "2.5.0"
    },
    "widgets": {
      "application/vnd.jupyter.widget-state+json": {}
    },
    "colab": {
      "provenance": [],
      "include_colab_link": true
    }
  },
  "nbformat": 4,
  "nbformat_minor": 5
}